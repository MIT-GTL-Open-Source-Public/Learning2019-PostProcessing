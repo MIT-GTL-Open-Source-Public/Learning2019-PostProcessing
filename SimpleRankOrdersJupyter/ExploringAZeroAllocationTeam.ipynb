{
 "cells": [
  {
   "cell_type": "markdown",
   "metadata": {},
   "source": [
    "# Exploring data from a team that had zero allocation for a team\n",
    "\n",
    "We found that the user interface allows the system to be at a state where the allocation for certain teams is zero. We are looking at the data log to see how team-mix, interaction-score and walking time are affected by this."
   ]
  },
  {
   "cell_type": "code",
   "execution_count": 1,
   "metadata": {},
   "outputs": [
    {
     "name": "stdout",
     "output_type": "stream",
     "text": [
      "MS1R1A-2\n"
     ]
    }
   ],
   "source": [
    "import sys\n",
    "import os.path\n",
    "\n",
    "sys.path.append(\"../CommonModules\") # go to parent dir/CommonModules\n",
    "\n",
    "import Learning2019GTL.Globals as Globals\n",
    "import Learning2019GTL.DataConnector as DataConnector\n",
    "\n",
    "data_map = Globals.FileNameMaps()\n",
    "\n",
    "TEAM_MAP = dict([[v,k] for k,v in data_map.CSV_MAP.items()])\n",
    "\n",
    "conditions = ['A - control (discuss conference) at beginning', 'B - strategy at beginning', 'D - strategy at mid']\n",
    "\n",
    "t = DataConnector.Team()\n",
    "t.getTeamByID(2)\n",
    "print(t.getStringID())\n"
   ]
  },
  {
   "cell_type": "code",
   "execution_count": null,
   "metadata": {},
   "outputs": [],
   "source": []
  }
 ],
 "metadata": {
  "kernelspec": {
   "display_name": "Python 3",
   "language": "python",
   "name": "python3"
  },
  "language_info": {
   "codemirror_mode": {
    "name": "ipython",
    "version": 3
   },
   "file_extension": ".py",
   "mimetype": "text/x-python",
   "name": "python",
   "nbconvert_exporter": "python",
   "pygments_lexer": "ipython3",
   "version": "3.7.4"
  }
 },
 "nbformat": 4,
 "nbformat_minor": 2
}
