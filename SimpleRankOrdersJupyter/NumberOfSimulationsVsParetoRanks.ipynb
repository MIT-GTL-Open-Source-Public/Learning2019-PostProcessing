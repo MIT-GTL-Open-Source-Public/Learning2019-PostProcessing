{
 "cells": [
  {
   "cell_type": "markdown",
   "metadata": {},
   "source": [
    "# Number of Simulations vs. Pareto Ranks by Team\n",
    "\n",
    "This notebook explores the number of simulations that were done by team and grouped by \n",
    "their experimental condition and plots them against their Pareto ranks."
   ]
  },
  {
   "cell_type": "code",
   "execution_count": 44,
   "metadata": {},
   "outputs": [],
   "source": [
    "import sys\n",
    "import os.path\n",
    "\n",
    "sys.path.append(\"../CommonModules\") # go to parent dir/CommonModules\n",
    "\n",
    "import Learning2019GTL.Globals as Globals\n",
    "import Learning2019GTL.DataConnector as DataConnector\n",
    "\n",
    "data_map = Globals.FileNameMaps()\n",
    "\n",
    "TEAM_MAP = dict([[v,k] for k,v in data_map.CSV_MAP.items()])\n",
    "\n",
    "DATA_FILE = os.path.expanduser(\"~/Learning2019Data/PostProcessingResults/TeamNumSimulationsByFile.csv\")\n",
    "DATA_FILE_PARETO = os.path.expanduser(\"~/Learning2019Data/PostProcessingResults/ParetoRankingByFile.csv\")\n",
    "\n",
    "import csv\n",
    "import numpy as np\n",
    "\n",
    "conditions = ['A - control (discuss conference) at beginning', 'B - strategy at beginning', 'D - strategy at mid']\n",
    "\n",
    "class AnalyzedData:\n",
    "    team_str   = ''\n",
    "    unique_sims = -1\n",
    "    total_sims  = -1\n",
    "    condition  = ''\n",
    "    pareto_ranks_coarse = -1 # one or more solutions to be the same rank\n",
    "    pareto_ranks_fine   = -1 # more solutions == better rank\n",
    "    \n",
    "analyzed_data = {} # empty dictionary\n",
    "\n",
    "with open(DATA_FILE, 'r') as csvfile:\n",
    "    reader = csv.DictReader(csvfile)\n",
    "    for row in reader:\n",
    "        team_file = row['File']\n",
    "        team_str = TEAM_MAP[team_file]\n",
    "        t = DataConnector.Team()\n",
    "        condition = t.getCondition(team_str)[0]\n",
    "        #print(row)\n",
    "        #print(condition\n",
    "        if team_str in analyzed_data.keys():\n",
    "            datum = analyzed_data[team_str]\n",
    "        else:\n",
    "            datum = AnalyzedData()\n",
    "            analyzed_data[team_str] = datum\n",
    "            datum.team_str = team_str\n",
    "            \n",
    "        datum.condition = condition\n",
    "        datum.unique_sims = int(row[' UniqueSims'])\n",
    "        datum.total_sims = int(row[' TotalSims'])\n",
    "        \n"
   ]
  },
  {
   "cell_type": "markdown",
   "metadata": {},
   "source": [
    "## Checking that I can get back data grouped by conditions for plotting"
   ]
  },
  {
   "cell_type": "code",
   "execution_count": 45,
   "metadata": {},
   "outputs": [
    {
     "data": {
      "image/png": "[encoded data removed]",
      "text/plain": [
       "<Figure size 931.988x576 with 1 Axes>"
      ]
     },
     "metadata": {
      "needs_background": "light"
     },
     "output_type": "display_data"
    }
   ],
   "source": [
    "uniqueSimsA = [analyzed_data[k].unique_sims for k in analyzed_data.keys() if analyzed_data[k].condition == 'A' ]\n",
    "uniqueSimsB = [analyzed_data[k].unique_sims for k in analyzed_data.keys() if analyzed_data[k].condition == 'B' ]\n",
    "uniqueSimsD = [analyzed_data[k].unique_sims for k in analyzed_data.keys() if analyzed_data[k].condition == 'D' ]\n",
    "\n",
    "%matplotlib inline\n",
    "import matplotlib\n",
    "import matplotlib.pyplot as plt\n",
    "\n",
    "\n",
    "font = {'family' : 'DejaVu Sans',\n",
    "        'weight' : 'bold',\n",
    "        'size'   : 22}\n",
    "\n",
    "matplotlib.rc('font', **font)\n",
    "\n",
    "golden_ratio = np.array([1.61803398875, 1])\n",
    "plt.figure(figsize=golden_ratio*8)\n",
    "\n",
    "uniqueSimsA = np.array(uniqueSimsA)\n",
    "uniqueSimsB = np.array(uniqueSimsB)\n",
    "uniqueSimsD = np.array(uniqueSimsD)\n",
    "\n",
    "plt.hist(uniqueSimsA-1/6, bins=np.arange(0, 18, 1/6), density=False)\n",
    "plt.hist(uniqueSimsB+0/6, bins=np.arange(0, 18, 1/6), density=False)\n",
    "plt.hist(uniqueSimsD+1/6, bins=np.arange(0, 18, 1/6), density=False)\n",
    "plt.xlim([0, 18])\n",
    "plt.legend(conditions, fontsize=12, loc=2)\n",
    "plt.ylabel('Number of Teams')\n",
    "plt.xlabel('Number of Unique Simulations')\n",
    "plt.show()\n"
   ]
  },
  {
   "cell_type": "markdown",
   "metadata": {},
   "source": [
    "## Loading Pareto Ranks"
   ]
  },
  {
   "cell_type": "code",
   "execution_count": 46,
   "metadata": {},
   "outputs": [],
   "source": [
    "def getPRank(row):\n",
    "    rank = -1\n",
    "    for p in range(17):\n",
    "        key = f'P{p}'\n",
    "        if int(row[key]) > 0:\n",
    "            rank = p\n",
    "            break\n",
    "            \n",
    "    return rank\n",
    "\n",
    "def getPRankWithNum(row):\n",
    "    rank = -1\n",
    "    for p in range(17):\n",
    "        key = f'P{p}'\n",
    "        val = int(row[key])\n",
    "        if val > 0:\n",
    "            rank = p + 1/(val + 1)\n",
    "            break\n",
    "            \n",
    "    return rank\n",
    "\n",
    "with open(DATA_FILE_PARETO, 'r') as csvfile:\n",
    "    reader = csv.DictReader(csvfile)\n",
    "    for row in reader:\n",
    "        team_file = row['File']\n",
    "        team_str = TEAM_MAP[team_file]\n",
    "        rank_coarse = getPRank(row)\n",
    "        rank_fine   = getPRankWithNum(row)\n",
    "        datum = analyzed_data[team_str] # we should have all the data points in the number of sims loop    \n",
    "        datum.pareto_ranks_coarse = rank_coarse\n",
    "        datum.pareto_ranks_fine   = rank_fine"
   ]
  },
  {
   "cell_type": "markdown",
   "metadata": {},
   "source": [
    "## Number of unique simulations verses pareto ranks"
   ]
  },
  {
   "cell_type": "code",
   "execution_count": 31,
   "metadata": {},
   "outputs": [],
   "source": [
    "test_dict = {\"test\": 1, \"b\": 3}"
   ]
  },
  {
   "cell_type": "code",
   "execution_count": 32,
   "metadata": {},
   "outputs": [
    {
     "data": {
      "text/plain": [
       "dict_keys(['test', 'b'])"
      ]
     },
     "execution_count": 32,
     "metadata": {},
     "output_type": "execute_result"
    }
   ],
   "source": [
    "test_dict.keys()"
   ]
  },
  {
   "cell_type": "code",
   "execution_count": null,
   "metadata": {},
   "outputs": [],
   "source": []
  }
 ],
 "metadata": {
  "kernelspec": {
   "display_name": "Python 3",
   "language": "python",
   "name": "python3"
  },
  "language_info": {
   "codemirror_mode": {
    "name": "ipython",
    "version": 3
   },
   "file_extension": ".py",
   "mimetype": "text/x-python",
   "name": "python",
   "nbconvert_exporter": "python",
   "pygments_lexer": "ipython3",
   "version": "3.7.4"
  }
 },
 "nbformat": 4,
 "nbformat_minor": 2
}
